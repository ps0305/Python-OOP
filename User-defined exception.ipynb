{
 "cells": [
  {
   "cell_type": "markdown",
   "metadata": {},
   "source": [
    "### User-defined exception:-\n",
    "\n",
    "    -In Python exceptions are two types:\n",
    "    \n",
    "    1).Pre-defined exceptions\n",
    "    2).User-defined exception\n",
    "    \n",
    "    -Pre-defined exceptions are automatically raised by Python,whenever a runtime error occured.\n",
    "    \n",
    "    -A programmer has to raise user-defined exceptions,based on a condition\n",
    "    \n",
    "    -User-defined exceptions can be created by extending 'Exception' superclass"
   ]
  },
  {
   "cell_type": "markdown",
   "metadata": {},
   "source": [
    "#### Create a user-defined exception 'AmonutOverFlow' exception, and raise it ,when withdraw amount is greater then Rs. 20000."
   ]
  },
  {
   "cell_type": "code",
   "execution_count": 1,
   "metadata": {},
   "outputs": [
    {
     "name": "stdout",
     "output_type": "stream",
     "text": [
      "Invalid Amount,Maximum allowed amount is Rs. 20000\n"
     ]
    }
   ],
   "source": [
    "class AmountOverflowException(Exception):\n",
    "    def __init__(self,message):\n",
    "        self.msg = message\n",
    "    def __str__(self):\n",
    "        return self.msg\n",
    "    \n",
    "class Bank:\n",
    "    def __init__(self,balance):\n",
    "        self.bal = balance\n",
    "        \n",
    "    def withdraw(self,amount):\n",
    "        try:\n",
    "            if amount>20000:\n",
    "                raise AmountOverflowException('Invalid Amount,Maximum allowed amount is Rs. 20000')\n",
    "            else:\n",
    "                self.bal -= amount\n",
    "                print('Remaining balance after withdrawl =',self.bal)\n",
    "        except AmountOverflowException as e:\n",
    "            print(e)\n",
    "#outside\n",
    "b=Bank(balance = 49000)\n",
    "b.withdraw(25000)"
   ]
  },
  {
   "cell_type": "code",
   "execution_count": 1,
   "metadata": {},
   "outputs": [
    {
     "name": "stdout",
     "output_type": "stream",
     "text": [
      "Remaining balance after withdrawl = 29000\n"
     ]
    }
   ],
   "source": [
    "class AmountOverflowException(Exception):\n",
    "    def __init__(self,message):\n",
    "        self.msg = message\n",
    "    def __str__(self):\n",
    "        return self.msg\n",
    "    \n",
    "class Bank:\n",
    "    def __init__(self,balance):\n",
    "        self.bal = balance\n",
    "        \n",
    "    def withdraw(self,amount):\n",
    "        try:\n",
    "            if amount>20000:\n",
    "                raise AmountOverflowException('Invalid Amount,Maximum allowed amount is Rs. 20000')\n",
    "            else:\n",
    "                self.bal -= amount\n",
    "                print('Remaining balance after withdrawl =',self.bal)\n",
    "        except AmountOverflowException as e:\n",
    "            print(e)\n",
    "#outside\n",
    "b=Bank(balance = 49000)\n",
    "b.withdraw(20000)"
   ]
  },
  {
   "cell_type": "markdown",
   "metadata": {},
   "source": [
    "#### Create user-defined exception , 'TooManyValuesException' and raise it ,when a list contains more then five elements."
   ]
  },
  {
   "cell_type": "code",
   "execution_count": 5,
   "metadata": {},
   "outputs": [
    {
     "name": "stdout",
     "output_type": "stream",
     "text": [
      "List contains too many items\n"
     ]
    }
   ],
   "source": [
    "class TooManyValuesException(Exception):\n",
    "    def __init__(self,message):\n",
    "        self.msg = message\n",
    "    def __str__(self):\n",
    "        return self.msg\n",
    "    \n",
    "class Test:\n",
    "    def fun1(self,myList):\n",
    "        try:\n",
    "            if len(myList)>5:\n",
    "                raise TooManyValuesException('List contains too many items')\n",
    "            else:\n",
    "                print('list Accepted')\n",
    "                print(myList)\n",
    "        except TooManyValuesException as tm :\n",
    "            print(tm)\n",
    "t= Test()\n",
    "myList = [10,20,30,40,50,60]\n",
    "t.fun1(myList)\n",
    "            "
   ]
  },
  {
   "cell_type": "code",
   "execution_count": 6,
   "metadata": {},
   "outputs": [
    {
     "name": "stdout",
     "output_type": "stream",
     "text": [
      "list Accepted\n",
      "[10, 20, 30, 40, 50]\n"
     ]
    }
   ],
   "source": [
    "class TooManyValuesException(Exception):\n",
    "    def __init__(self,message):\n",
    "        self.msg = message\n",
    "    def __str__(self):\n",
    "        return self.msg\n",
    "    \n",
    "class Test:\n",
    "    def fun1(self,myList):\n",
    "        try:\n",
    "            if len(myList)>5:\n",
    "                raise TooManyValuesException('List contains too many items')\n",
    "            else:\n",
    "                print('list Accepted')\n",
    "                print(myList)\n",
    "        except TooManyValuesException as tm :\n",
    "            print(tm)\n",
    "t= Test()\n",
    "myList = [10,20,30,40,50]\n",
    "t.fun1(myList)"
   ]
  },
  {
   "cell_type": "markdown",
   "metadata": {},
   "source": [
    "    -Defining user defined class according to the bussiness requirements by extending any one of the predefined exception class is known as a user-defined exception class.\n",
    "    \n",
    "#### raising the user-defined exception class object:-\n",
    "        \n",
    "        -user-defined exceptions are not raised automatically,so that ,we have to raise that exceptions explecitely,by using 'raise' keyword.\n",
    "        \n",
    "#### handling the raised user-defined exceptions:-\n",
    "\n",
    "    -We can handle the raised exceptions by using, 'try' and 'except' blocks."
   ]
  },
  {
   "cell_type": "code",
   "execution_count": 2,
   "metadata": {},
   "outputs": [
    {
     "name": "stdout",
     "output_type": "stream",
     "text": [
      "Enter a number :15\n",
      "This value is too Large, try Again !\n",
      "Enter a number :8\n",
      "This value is too Small, try Again !\n",
      "Enter a number :10\n",
      "Congratulations !, You have guessed the correct Number !\n"
     ]
    }
   ],
   "source": [
    "class ValueTooSmallError(Exception):\n",
    "    pass\n",
    "class ValueTooLargeError(Exception):\n",
    "    pass\n",
    "number = 10\n",
    "while True:\n",
    "    try:\n",
    "        i_num = int(input('Enter a number :'))\n",
    "        if i_num < number:\n",
    "            raise ValueTooSmallError\n",
    "        elif i_num > number:\n",
    "            raise ValueTooLargeError\n",
    "        break\n",
    "    except(ValueTooSmallError):\n",
    "        print('This value is too Small, try Again !')\n",
    "    except(ValueTooLargeError):\n",
    "        print('This value is too Large, try Again !')\n",
    "print('Congratulations !, You have guessed the correct Number !')"
   ]
  },
  {
   "cell_type": "code",
   "execution_count": 1,
   "metadata": {},
   "outputs": [
    {
     "name": "stdout",
     "output_type": "stream",
     "text": [
      "Enter a number :10\n",
      "Congratulations !, You have guessed the correct Number !\n"
     ]
    }
   ],
   "source": [
    "class ValueTooSmallError(Exception):\n",
    "    pass\n",
    "class ValueTooLargeError(Exception):\n",
    "    pass\n",
    "number = 10\n",
    "while True:\n",
    "    try:\n",
    "        i_num = int(input('Enter a number :'))\n",
    "        if i_num < number:\n",
    "            raise ValueTooSmallError\n",
    "        elif i_num > number:\n",
    "            raise ValueTooLargeError\n",
    "        break\n",
    "    except(ValueTooSmallError):\n",
    "        print('This value is too Small, try Again !')\n",
    "    except(ValueTooLargeError):\n",
    "        print('This value is too Large, try Again !')\n",
    "print('Congratulations !, You have guessed the correct Number !')"
   ]
  },
  {
   "cell_type": "markdown",
   "metadata": {},
   "source": [
    "### Assert\n",
    "\n",
    "    Assert is a statement ,which is used to raise the 'Assertion' error explecitely.\n",
    "    \n",
    "    -By using 'raise' keyword we can raise any type of exception,whereas by using 'assert' keyword ,we can raise only, Assertion error.\n",
    "    \n",
    "    -Assert statement raised a assertion error,if the given condition,is false.\n",
    "    \n",
    "    -Alongwith the assertion error,it can also display the user-friendly error messege,by using assert statement.\n",
    "    \n",
    "    -we can also handle the assertion error ,by using 'try' and 'except' blocks.`"
   ]
  },
  {
   "cell_type": "code",
   "execution_count": 3,
   "metadata": {},
   "outputs": [
    {
     "name": "stdout",
     "output_type": "stream",
     "text": [
      "32.0\n",
      "456.40399999999994\n"
     ]
    },
    {
     "ename": "AssertionError",
     "evalue": "Colder than Absolute",
     "output_type": "error",
     "traceback": [
      "\u001b[1;31m---------------------------------------------------------------------------\u001b[0m",
      "\u001b[1;31mAssertionError\u001b[0m                            Traceback (most recent call last)",
      "\u001b[1;32m<ipython-input-3-2a40c4abfbae>\u001b[0m in \u001b[0;36m<module>\u001b[1;34m()\u001b[0m\n\u001b[0;32m      4\u001b[0m \u001b[0mprint\u001b[0m\u001b[1;33m(\u001b[0m\u001b[0mKelvinToFahrenheit\u001b[0m\u001b[1;33m(\u001b[0m\u001b[1;36m273\u001b[0m\u001b[1;33m)\u001b[0m\u001b[1;33m)\u001b[0m\u001b[1;33m\u001b[0m\u001b[0m\n\u001b[0;32m      5\u001b[0m \u001b[0mprint\u001b[0m\u001b[1;33m(\u001b[0m\u001b[0mKelvinToFahrenheit\u001b[0m\u001b[1;33m(\u001b[0m\u001b[1;36m508.78\u001b[0m\u001b[1;33m)\u001b[0m\u001b[1;33m)\u001b[0m\u001b[1;33m\u001b[0m\u001b[0m\n\u001b[1;32m----> 6\u001b[1;33m \u001b[0mprint\u001b[0m\u001b[1;33m(\u001b[0m\u001b[0mKelvinToFahrenheit\u001b[0m\u001b[1;33m(\u001b[0m\u001b[1;33m-\u001b[0m\u001b[1;36m5\u001b[0m\u001b[1;33m)\u001b[0m\u001b[1;33m)\u001b[0m\u001b[1;33m\u001b[0m\u001b[0m\n\u001b[0m",
      "\u001b[1;32m<ipython-input-3-2a40c4abfbae>\u001b[0m in \u001b[0;36mKelvinToFahrenheit\u001b[1;34m(Temperature)\u001b[0m\n\u001b[0;32m      1\u001b[0m \u001b[1;32mdef\u001b[0m \u001b[0mKelvinToFahrenheit\u001b[0m\u001b[1;33m(\u001b[0m\u001b[0mTemperature\u001b[0m\u001b[1;33m)\u001b[0m\u001b[1;33m:\u001b[0m\u001b[1;33m\u001b[0m\u001b[0m\n\u001b[1;32m----> 2\u001b[1;33m     \u001b[1;32massert\u001b[0m \u001b[1;33m(\u001b[0m\u001b[0mTemperature\u001b[0m \u001b[1;33m>=\u001b[0m \u001b[1;36m0\u001b[0m\u001b[1;33m)\u001b[0m\u001b[1;33m,\u001b[0m\u001b[1;34m\"Colder than Absolute\"\u001b[0m\u001b[1;33m\u001b[0m\u001b[0m\n\u001b[0m\u001b[0;32m      3\u001b[0m     \u001b[1;32mreturn\u001b[0m \u001b[1;33m(\u001b[0m\u001b[1;33m(\u001b[0m\u001b[0mTemperature\u001b[0m\u001b[1;33m-\u001b[0m\u001b[1;36m273\u001b[0m\u001b[1;33m)\u001b[0m\u001b[1;33m*\u001b[0m\u001b[1;36m1.8\u001b[0m\u001b[1;33m)\u001b[0m\u001b[1;33m+\u001b[0m\u001b[1;36m32\u001b[0m\u001b[1;33m\u001b[0m\u001b[0m\n\u001b[0;32m      4\u001b[0m \u001b[0mprint\u001b[0m\u001b[1;33m(\u001b[0m\u001b[0mKelvinToFahrenheit\u001b[0m\u001b[1;33m(\u001b[0m\u001b[1;36m273\u001b[0m\u001b[1;33m)\u001b[0m\u001b[1;33m)\u001b[0m\u001b[1;33m\u001b[0m\u001b[0m\n\u001b[0;32m      5\u001b[0m \u001b[0mprint\u001b[0m\u001b[1;33m(\u001b[0m\u001b[0mKelvinToFahrenheit\u001b[0m\u001b[1;33m(\u001b[0m\u001b[1;36m508.78\u001b[0m\u001b[1;33m)\u001b[0m\u001b[1;33m)\u001b[0m\u001b[1;33m\u001b[0m\u001b[0m\n",
      "\u001b[1;31mAssertionError\u001b[0m: Colder than Absolute"
     ]
    }
   ],
   "source": [
    "def KelvinToFahrenheit(Temperature):\n",
    "    assert (Temperature >= 0),\"Colder than Absolute\"\n",
    "    return ((Temperature-273)*1.8)+32\n",
    "print(KelvinToFahrenheit(273))\n",
    "print(KelvinToFahrenheit(508.78))\n",
    "print(KelvinToFahrenheit(-5))"
   ]
  },
  {
   "cell_type": "code",
   "execution_count": 1,
   "metadata": {},
   "outputs": [
    {
     "name": "stdout",
     "output_type": "stream",
     "text": [
      "Assertion Error: marks list is empty\n"
     ]
    }
   ],
   "source": [
    "try:\n",
    "    marks_list=[]\n",
    "    assert len(marks_list)!=0, 'marks list is empty'\n",
    "    avg=sum(marks_list)//len(marks_list)\n",
    "    print('avg marks =',avg)\n",
    "except AssertionError as ae:\n",
    "    print('Assertion Error:',ae)"
   ]
  },
  {
   "cell_type": "code",
   "execution_count": null,
   "metadata": {},
   "outputs": [],
   "source": []
  }
 ],
 "metadata": {
  "kernelspec": {
   "display_name": "Python 3",
   "language": "python",
   "name": "python3"
  },
  "language_info": {
   "codemirror_mode": {
    "name": "ipython",
    "version": 3
   },
   "file_extension": ".py",
   "mimetype": "text/x-python",
   "name": "python",
   "nbconvert_exporter": "python",
   "pygments_lexer": "ipython3",
   "version": "3.6.5"
  }
 },
 "nbformat": 4,
 "nbformat_minor": 2
}
