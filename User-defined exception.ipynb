{
 "cells": [
  {
   "cell_type": "markdown",
   "metadata": {},
   "source": [
    "### User-defined exception:-\n",
    "\n",
    "    -In Python exceptions are two types:\n",
    "    \n",
    "    1).Pre-defined exceptions\n",
    "    2).User-defined exception\n",
    "    \n",
    "    -Pre-defined exceptions are automatically raised by Python,whenever a runtime error occured.\n",
    "    \n",
    "    -A programmer has to raise user-defined exceptions,based on a condition\n",
    "    \n",
    "    -User-defined exceptions can be created by extending 'Exception' superclass"
   ]
  },
  {
   "cell_type": "markdown",
   "metadata": {},
   "source": [
    "#### Create a user-defined exception 'AmonutOverFlow' exception, and raise it ,when withdraw amount is greater then Rs. 20000."
   ]
  },
  {
   "cell_type": "code",
   "execution_count": 1,
   "metadata": {},
   "outputs": [
    {
     "name": "stdout",
     "output_type": "stream",
     "text": [
      "Invalid Amount,Maximum allowed amount is Rs. 20000\n"
     ]
    }
   ],
   "source": [
    "class AmountOverflowException(Exception):\n",
    "    def __init__(self,message):\n",
    "        self.msg = message\n",
    "    def __str__(self):\n",
    "        return self.msg\n",
    "    \n",
    "class Bank:\n",
    "    def __init__(self,balance):\n",
    "        self.bal = balance\n",
    "        \n",
    "    def withdraw(self,amount):\n",
    "        try:\n",
    "            if amount>20000:\n",
    "                raise AmountOverflowException('Invalid Amount,Maximum allowed amount is Rs. 20000')\n",
    "            else:\n",
    "                self.bal -= amount\n",
    "                print('Remaining balance after withdrawl =',self.bal)\n",
    "        except AmountOverflowException as e:\n",
    "            print(e)\n",
    "#outside\n",
    "b=Bank(balance = 49000)\n",
    "b.withdraw(25000)"
   ]
  },
  {
   "cell_type": "code",
   "execution_count": 1,
   "metadata": {},
   "outputs": [
    {
     "name": "stdout",
     "output_type": "stream",
     "text": [
      "Remaining balance after withdrawl = 29000\n"
     ]
    }
   ],
   "source": [
    "class AmountOverflowException(Exception):\n",
    "    def __init__(self,message):\n",
    "        self.msg = message\n",
    "    def __str__(self):\n",
    "        return self.msg\n",
    "    \n",
    "class Bank:\n",
    "    def __init__(self,balance):\n",
    "        self.bal = balance\n",
    "        \n",
    "    def withdraw(self,amount):\n",
    "        try:\n",
    "            if amount>20000:\n",
    "                raise AmountOverflowException('Invalid Amount,Maximum allowed amount is Rs. 20000')\n",
    "            else:\n",
    "                self.bal -= amount\n",
    "                print('Remaining balance after withdrawl =',self.bal)\n",
    "        except AmountOverflowException as e:\n",
    "            print(e)\n",
    "#outside\n",
    "b=Bank(balance = 49000)\n",
    "b.withdraw(20000)"
   ]
  },
  {
   "cell_type": "markdown",
   "metadata": {},
   "source": [
    "#### Create user-defined exception , 'TooManyValuesException' and raise it ,when a list contains more then five elements."
   ]
  },
  {
   "cell_type": "code",
   "execution_count": 5,
   "metadata": {},
   "outputs": [
    {
     "name": "stdout",
     "output_type": "stream",
     "text": [
      "List contains too many items\n"
     ]
    }
   ],
   "source": [
    "class TooManyValuesException(Exception):\n",
    "    def __init__(self,message):\n",
    "        self.msg = message\n",
    "    def __str__(self):\n",
    "        return self.msg\n",
    "    \n",
    "class Test:\n",
    "    def fun1(self,myList):\n",
    "        try:\n",
    "            if len(myList)>5:\n",
    "                raise TooManyValuesException('List contains too many items')\n",
    "            else:\n",
    "                print('list Accepted')\n",
    "                print(myList)\n",
    "        except TooManyValuesException as tm :\n",
    "            print(tm)\n",
    "t= Test()\n",
    "myList = [10,20,30,40,50,60]\n",
    "t.fun1(myList)\n",
    "            "
   ]
  },
  {
   "cell_type": "code",
   "execution_count": 6,
   "metadata": {},
   "outputs": [
    {
     "name": "stdout",
     "output_type": "stream",
     "text": [
      "list Accepted\n",
      "[10, 20, 30, 40, 50]\n"
     ]
    }
   ],
   "source": [
    "class TooManyValuesException(Exception):\n",
    "    def __init__(self,message):\n",
    "        self.msg = message\n",
    "    def __str__(self):\n",
    "        return self.msg\n",
    "    \n",
    "class Test:\n",
    "    def fun1(self,myList):\n",
    "        try:\n",
    "            if len(myList)>5:\n",
    "                raise TooManyValuesException('List contains too many items')\n",
    "            else:\n",
    "                print('list Accepted')\n",
    "                print(myList)\n",
    "        except TooManyValuesException as tm :\n",
    "            print(tm)\n",
    "t= Test()\n",
    "myList = [10,20,30,40,50]\n",
    "t.fun1(myList)"
   ]
  },
  {
   "cell_type": "code",
   "execution_count": null,
   "metadata": {},
   "outputs": [],
   "source": []
  }
 ],
 "metadata": {
  "kernelspec": {
   "display_name": "Python 3",
   "language": "python",
   "name": "python3"
  },
  "language_info": {
   "codemirror_mode": {
    "name": "ipython",
    "version": 3
   },
   "file_extension": ".py",
   "mimetype": "text/x-python",
   "name": "python",
   "nbconvert_exporter": "python",
   "pygments_lexer": "ipython3",
   "version": "3.6.5"
  }
 },
 "nbformat": 4,
 "nbformat_minor": 2
}
