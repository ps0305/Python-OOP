{
 "cells": [
  {
   "cell_type": "markdown",
   "metadata": {},
   "source": [
    "### Datetime module:\n",
    "\n",
    "    -This module is used to work with date and time in Python.\n",
    "    \n",
    "    -This modules has three important classes.\n",
    "    1)datetime\n",
    "    2)date\n",
    "    3)time\n",
    "    \n",
    "#### Write a programme to print system date and time."
   ]
  },
  {
   "cell_type": "code",
   "execution_count": 1,
   "metadata": {},
   "outputs": [
    {
     "name": "stdout",
     "output_type": "stream",
     "text": [
      "current date & time :2018-06-30 12:36:32.866915\n",
      "current date:2018-06-30\n"
     ]
    }
   ],
   "source": [
    "from datetime import *\n",
    "print('current date & time :', end='')\n",
    "print(datetime.now())\n",
    "print('current date:',end='')\n",
    "print(date.today())"
   ]
  },
  {
   "cell_type": "markdown",
   "metadata": {},
   "source": [
    "#### Formatting the date:\n",
    "\n",
    "    -To print a date in more readable format,Python has provided some tools.\n",
    "    \n",
    "    -%a => weekday in abbrivated manner.\n",
    "    \n",
    "    -%A => weekday in full form.\n",
    "    \n",
    "    -%w => week day as number.\n",
    "    \n",
    "    -%d => Month as abbrivated form.\n",
    "    \n",
    "    -%B => Month as a full name.\n",
    "    \n",
    "    -%m => month as a number.\n",
    "    \n",
    "    -%y => Year without century.\n",
    "    \n",
    "    -%Y => Year with century.\n",
    "    \n",
    "    -%j => Day of the year.\n",
    "    \n",
    "    -%h => print hours in 24 hrs format.\n",
    "    \n",
    "    -%I => hrs in 12 hrs format.\n",
    "    \n",
    "    -%M => Minutes\n",
    "    \n",
    "    -%S => Seconds\n",
    "    \n",
    "    -%p => AM or PM"
   ]
  },
  {
   "cell_type": "code",
   "execution_count": 4,
   "metadata": {},
   "outputs": [
    {
     "name": "stdout",
     "output_type": "stream",
     "text": [
      "Today is : Sat, 30, June, 2018\n",
      "Today is : 181 day of this year\n"
     ]
    }
   ],
   "source": [
    "d=date.today()\n",
    "s=d.strftime('Today is : %a, %d, %B, %Y')\n",
    "s1=d.strftime('Today is : %j day of this year')\n",
    "print(s)\n",
    "print(s1)"
   ]
  },
  {
   "cell_type": "code",
   "execution_count": null,
   "metadata": {},
   "outputs": [],
   "source": []
  }
 ],
 "metadata": {
  "kernelspec": {
   "display_name": "Python 3",
   "language": "python",
   "name": "python3"
  },
  "language_info": {
   "codemirror_mode": {
    "name": "ipython",
    "version": 3
   },
   "file_extension": ".py",
   "mimetype": "text/x-python",
   "name": "python",
   "nbconvert_exporter": "python",
   "pygments_lexer": "ipython3",
   "version": "3.6.5"
  }
 },
 "nbformat": 4,
 "nbformat_minor": 2
}
