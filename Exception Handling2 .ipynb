{
 "cells": [
  {
   "cell_type": "markdown",
   "metadata": {},
   "source": [
    "# Exception Handling\n",
    "    \n",
    "    Generally we get two types of errors in any programming language,they are:\n",
    "    \n",
    "    1)- Syntax Error.\n",
    "    2)- Runtime Error.\n",
    "    \n",
    "### Syntax Error\n",
    "\n",
    "    The errors which occurs due to invalid syntaxes,are known as Syntax Error.\n",
    "    \n",
    "    -Whenever we run a Python file,Internally Python interpreter varifies all the statement in the Python file are defined according to syntax rules and regulations or not.\n",
    "    \n",
    "    -All the statemnets in the Python file are defined according to the Syntax rules,then internally Python interpreter converts '.py' file,in the form of '.pyc' file.\n",
    "    \n",
    "    -If any Syntax errors occurs in Python file,then Pyhton interpreter will not convert ,that file in the form of '.pyc' file.\n",
    "    without getting ,'pyc' programme execution will not be started.\n",
    "    \n",
    "    -Programmers are developer , responsile for provdeing the solutions to the Syntex error."
   ]
  },
  {
   "cell_type": "code",
   "execution_count": 1,
   "metadata": {},
   "outputs": [
    {
     "ename": "IndentationError",
     "evalue": "expected an indented block (<ipython-input-1-df4dbd6e0f0c>, line 3)",
     "output_type": "error",
     "traceback": [
      "\u001b[1;36m  File \u001b[1;32m\"<ipython-input-1-df4dbd6e0f0c>\"\u001b[1;36m, line \u001b[1;32m3\u001b[0m\n\u001b[1;33m    print (p)\u001b[0m\n\u001b[1;37m        ^\u001b[0m\n\u001b[1;31mIndentationError\u001b[0m\u001b[1;31m:\u001b[0m expected an indented block\n"
     ]
    }
   ],
   "source": [
    "print('begin')\n",
    "for p in range(1,11):\n",
    "print (p)\n",
    "print('end')"
   ]
  },
  {
   "cell_type": "markdown",
   "metadata": {},
   "source": [
    "### Runtime Errors:-\n",
    "\n",
    "    -The errors ,which occurs after starting the execution of programme are known as Runtime errors.\n",
    "    \n",
    "    -There are so many reasons behind,to get the runtime errors at the time of execution of the programme.\n",
    "    1).Invalid Logic\n",
    "    2).Invalid Input\n",
    "    3).Memory related issues.\n",
    "    4).Hardware failures.\n",
    "    5).Other softwares ,which are running in the same machine. and so on.\n",
    "    \n",
    "    -with respect ot every reason ,which causes to runtime error,corresponding runtime error representation class is available in Python.\n",
    "    \n",
    "    -Runtime error representation classes ,technically we call as 'exception classes'.\n",
    "    \n",
    "    -At the time of execution of programme ,if any runtime error is occured,corresponding runtime error representation error class object is created.\n",
    "    \n",
    "    -Creating runtime error representation class object is technically known as 'rising exception'.\n",
    "    \n",
    "    -At the time execution of the programme ,if any exception is raised,then internally Python interpreter varifies,any code is implemented to handle,raised exception or not.\n",
    "    \n",
    "    -If any code is not implemented to handle the raised exception,then programme will be terminated 'abnormally'.\n",
    "    \n",
    "### Abnormal Termination:-\n",
    "\n",
    "    -The concept of terminating the programme in the middle of it's execution,without executing last statement of the main module is known as 'abnormal termination'."
   ]
  },
  {
   "cell_type": "code",
   "execution_count": 1,
   "metadata": {},
   "outputs": [
    {
     "name": "stdout",
     "output_type": "stream",
     "text": [
      "begin\n",
      "enter fno10\n",
      "enter sno0\n"
     ]
    },
    {
     "ename": "ZeroDivisionError",
     "evalue": "division by zero",
     "output_type": "error",
     "traceback": [
      "\u001b[1;31m---------------------------------------------------------------------------\u001b[0m",
      "\u001b[1;31mZeroDivisionError\u001b[0m                         Traceback (most recent call last)",
      "\u001b[1;32m<ipython-input-1-e0ee84729093>\u001b[0m in \u001b[0;36m<module>\u001b[1;34m()\u001b[0m\n\u001b[0;32m      4\u001b[0m \u001b[0mi\u001b[0m\u001b[1;33m=\u001b[0m\u001b[0mint\u001b[0m\u001b[1;33m(\u001b[0m\u001b[0mx\u001b[0m\u001b[1;33m)\u001b[0m\u001b[1;33m\u001b[0m\u001b[0m\n\u001b[0;32m      5\u001b[0m \u001b[0mj\u001b[0m\u001b[1;33m=\u001b[0m\u001b[0mint\u001b[0m\u001b[1;33m(\u001b[0m\u001b[0my\u001b[0m\u001b[1;33m)\u001b[0m\u001b[1;33m\u001b[0m\u001b[0m\n\u001b[1;32m----> 6\u001b[1;33m \u001b[0mk\u001b[0m\u001b[1;33m=\u001b[0m\u001b[0mi\u001b[0m\u001b[1;33m/\u001b[0m\u001b[0mj\u001b[0m\u001b[1;33m\u001b[0m\u001b[0m\n\u001b[0m\u001b[0;32m      7\u001b[0m \u001b[0mprint\u001b[0m\u001b[1;33m(\u001b[0m\u001b[0mk\u001b[0m\u001b[1;33m)\u001b[0m\u001b[1;33m\u001b[0m\u001b[0m\n\u001b[0;32m      8\u001b[0m \u001b[0mprint\u001b[0m\u001b[1;33m(\u001b[0m\u001b[1;34m'end'\u001b[0m\u001b[1;33m)\u001b[0m\u001b[1;33m\u001b[0m\u001b[0m\n",
      "\u001b[1;31mZeroDivisionError\u001b[0m: division by zero"
     ]
    }
   ],
   "source": [
    "print('begin')\n",
    "x=input('enter fno')\n",
    "y=input('enter sno')\n",
    "i=int(x)\n",
    "j=int(y)\n",
    "k=i/j\n",
    "print(k)\n",
    "print('end')"
   ]
  },
  {
   "cell_type": "markdown",
   "metadata": {},
   "source": [
    "### Exception Handling:-\n",
    "\n",
    "    -The concept of identifying the raised exception,receiving the error,and assigning the exception to corresponding exception class,is known as 'exception handling'.\n",
    "    \n",
    "    -Exception handling is used to stop the abnormal termination of programme,even though exception is raised,by displaying user-friendly error message.\n",
    "    \n",
    "    -Exception handling can be implemented in Python ,by using 'try' and 'except' blocks.\n",
    "    \n",
    "### Try Block:\n",
    "    \n",
    "    -The block ,which is preceded as 'try' keyword is known as a try block."
   ]
  },
  {
   "cell_type": "code",
   "execution_count": null,
   "metadata": {},
   "outputs": [],
   "source": [
    "# Syntax\n",
    "try:\n",
    "    #some logic"
   ]
  },
  {
   "cell_type": "markdown",
   "metadata": {},
   "source": [
    "    -The statements ,which causes to the runtime errors,and other statements,which depends on the,execution of runtime error occur statement are recommended to represent in 'try' block.\n",
    "    \n",
    "    -At the time of execution of the programme .if any exception is raised in the 'try' block,then immediately that exception is identiied by 'try' block,received by the 'try' block and that exception to the 'except' block,without executing remaining statement of the 'try' block.\n",
    "    \n",
    "### Except Block:-\n",
    "    \n",
    "    -A block ,which is preceded by the 'except' keyword is known as a 'except' block.\n",
    "    \n",
    "    -'Except' block should be preceded by the 'try' block.\n",
    "    \n",
    "    -'except' block recieves the 'exception' object,which is given by the 'try' block,and the assign that exception to the corresponding exception class.\n",
    "    \n",
    "    -In 'except' block ,we can define the statements,to display the user-friendly error message.\n",
    "    \n",
    "    -If exception is not raised in the 'try' block ,then control will not go to the 'except' block."
   ]
  },
  {
   "cell_type": "code",
   "execution_count": null,
   "metadata": {},
   "outputs": [],
   "source": [
    "#Syntax\n",
    "except(Exceptionclassname):\n",
    "    #some logic"
   ]
  },
  {
   "cell_type": "code",
   "execution_count": 2,
   "metadata": {},
   "outputs": [
    {
     "name": "stdout",
     "output_type": "stream",
     "text": [
      "begin\n",
      "enter fno10\n",
      "enter sno0\n",
      "sno can't be zero\n",
      "end\n"
     ]
    }
   ],
   "source": [
    "print('begin')\n",
    "x=input('enter fno')\n",
    "y=input('enter sno')\n",
    "i=int(x)\n",
    "j=int(y)\n",
    "try:\n",
    "    k=i/j\n",
    "    print(k)\n",
    "except(ZeroDivisionError):\n",
    "    print(\"sno can't be zero\")\n",
    "print('end')"
   ]
  },
  {
   "cell_type": "markdown",
   "metadata": {},
   "source": [
    "### Default except block:\n",
    "    \n",
    "    -Default except block is an except block,which can handle any type of exception."
   ]
  },
  {
   "cell_type": "code",
   "execution_count": 3,
   "metadata": {},
   "outputs": [
    {
     "name": "stdout",
     "output_type": "stream",
     "text": [
      "begin\n",
      "enter fno10\n",
      "enter sno0\n",
      "error occured\n",
      "end\n"
     ]
    }
   ],
   "source": [
    "print('begin')\n",
    "x=input('enter fno')\n",
    "y=input('enter sno')\n",
    "\n",
    "try:\n",
    "    i=int(x)\n",
    "    j=int(y)\n",
    "    k=i/j\n",
    "    print(k)\n",
    "except:                          #default except block\n",
    "    print(\"error occured\")\n",
    "print('end')"
   ]
  },
  {
   "cell_type": "code",
   "execution_count": 4,
   "metadata": {},
   "outputs": [
    {
     "name": "stdout",
     "output_type": "stream",
     "text": [
      "begin\n",
      "enter fno10\n",
      "enter snoabc\n",
      "error occured\n",
      "end\n"
     ]
    }
   ],
   "source": [
    "print('begin')\n",
    "x=input('enter fno')\n",
    "y=input('enter sno')\n",
    "\n",
    "try:\n",
    "    i=int(x)\n",
    "    j=int(y)\n",
    "    k=i/j\n",
    "    print(k)\n",
    "except:                          #default except block\n",
    "    print(\"error occured\")\n",
    "print('end')"
   ]
  },
  {
   "cell_type": "markdown",
   "metadata": {},
   "source": [
    "### Single 'try' with multiple 'except' block:\n",
    "\n",
    "    -Instead of handling all exceptions by using ,single 'except' block(default 'except'), it is recommended to handle different exceptions by using different 'except' block.\n",
    "    \n",
    "    -In order to handle the diffrent exceptions by using different 'except' block ,we single 'try' with multiple 'except' blocks.\n",
    "    \n",
    "    -Whenever we define single 'try' with multiple 'except' blocks ,if any exception raised in 'try' block,then control will   goes to first 'except' block.\n",
    "    \n",
    "    -If first 'except' block is not handled that exception ,then only control will goes to the next 'except' block.\n",
    "    \n",
    "    -If all 'except' blocks are not handle that exception,then programme will be terminated abnormally.\n",
    "    \n"
   ]
  },
  {
   "cell_type": "code",
   "execution_count": 6,
   "metadata": {},
   "outputs": [
    {
     "name": "stdout",
     "output_type": "stream",
     "text": [
      "begin\n",
      "enter fno100\n",
      "enter sno0\n",
      "sno can not be zero\n",
      "end\n"
     ]
    }
   ],
   "source": [
    "print('begin')\n",
    "x=input('enter fno')\n",
    "y=input('enter sno')\n",
    "\n",
    "try:\n",
    "    i=int(x)\n",
    "    j=int(y)\n",
    "    k=i/j\n",
    "    print(k)\n",
    "except(ZeroDivisionError):        # first except block,to handle ZeroDivisionError\n",
    "    print('sno can not be zero')\n",
    "except(ValueError):                #second except block,to handle ValueError\n",
    "    print('enter numerical values only')\n",
    "except:                          #default except block\n",
    "    print(\"error occured\")\n",
    "print('end')"
   ]
  },
  {
   "cell_type": "code",
   "execution_count": 7,
   "metadata": {},
   "outputs": [
    {
     "name": "stdout",
     "output_type": "stream",
     "text": [
      "begin\n",
      "enter fno100\n",
      "enter snoabc\n",
      "enter numerical values only\n",
      "end\n"
     ]
    }
   ],
   "source": [
    "print('begin')\n",
    "x=input('enter fno')\n",
    "y=input('enter sno')\n",
    "\n",
    "try:\n",
    "    i=int(x)\n",
    "    j=int(y)\n",
    "    k=i/j\n",
    "    print(k)\n",
    "except(ZeroDivisionError):        # first except block,to handle ZeroDivisionError\n",
    "    print('sno can not be zero')\n",
    "except(ValueError):                #second except block,to handle ValueError\n",
    "    print('enter numerical values only')\n",
    "except:                          #default except block\n",
    "    print(\"error occured\")\n",
    "print('end')"
   ]
  },
  {
   "cell_type": "markdown",
   "metadata": {},
   "source": [
    "#### While defining ,single 'try' with multiple 'except' block,default 'except' block should be the last 'except' block,other-wise we'll get syntex error"
   ]
  },
  {
   "cell_type": "code",
   "execution_count": 8,
   "metadata": {},
   "outputs": [
    {
     "name": "stdout",
     "output_type": "stream",
     "text": [
      "begin\n",
      "enter fno10\n",
      "enter sno0\n"
     ]
    },
    {
     "ename": "SyntaxError",
     "evalue": "default 'except:' must be last (<ipython-input-8-b0df5de7c009>, line 9)",
     "output_type": "error",
     "traceback": [
      "\u001b[1;36m  File \u001b[1;32m\"<ipython-input-8-b0df5de7c009>\"\u001b[1;36m, line \u001b[1;32m9\u001b[0m\n\u001b[1;33m    print(k)\u001b[0m\n\u001b[1;37m         ^\u001b[0m\n\u001b[1;31mSyntaxError\u001b[0m\u001b[1;31m:\u001b[0m default 'except:' must be last\n"
     ]
    }
   ],
   "source": [
    "print('begin')\n",
    "x=input('enter fno')\n",
    "y=input('enter sno')\n",
    "\n",
    "try:\n",
    "    i=int(x)\n",
    "    j=int(y)\n",
    "    k=i/j\n",
    "    print(k)\n",
    "except:                          #default except block\n",
    "    print(\"error occured\")\n",
    "except(ZeroDivisionError):        # first except block,to handle ZeroDivisionError\n",
    "    print('sno can not be zero')\n",
    "except(ValueError):                #second except block,to handle ValueError\n",
    "    print('enter numerical values only')\n",
    "print('end')"
   ]
  },
  {
   "cell_type": "markdown",
   "metadata": {},
   "source": [
    "### Raise:\n",
    "    \n",
    "    -'Raise' is a keyword, which is used to raise the exception explicetely.\n",
    "    \n",
    "    - After raising the exception,we can handle it ,by using 'try' and 'except' block."
   ]
  },
  {
   "cell_type": "code",
   "execution_count": 9,
   "metadata": {},
   "outputs": [
    {
     "name": "stdout",
     "output_type": "stream",
     "text": [
      "begin\n",
      "enter fno100\n",
      "enter sno0\n",
      "sno can not be zero\n",
      "end\n"
     ]
    }
   ],
   "source": [
    "print('begin')\n",
    "x=input('enter fno')\n",
    "y=input('enter sno')\n",
    "\n",
    "try:\n",
    "    i=int(x)\n",
    "    j=int(y)\n",
    "    k=i/j\n",
    "    print(k)\n",
    "    raise KeyError\n",
    "except(ZeroDivisionError):        # first except block,to handle ZeroDivisionError\n",
    "    print('sno can not be zero')\n",
    "except(ValueError):                #second except block,to handle ValueError\n",
    "    print('enter numerical values only')\n",
    "except:                          #default except block\n",
    "    print(\"error occured\")\n",
    "print('end')"
   ]
  },
  {
   "cell_type": "markdown",
   "metadata": {},
   "source": [
    "### Finally:\n",
    "\n",
    "    -Block which is preceded by the 'finally' keyword is known as a 'finally' block.\n",
    "    \n",
    "    -'finally' block should be preceded by either 'try' block or 'except' block.\n",
    "    \n",
    "    -The set of statements which are compulsary to execute ,whether exception is raised or not raised even though the exception is raised ,whenther exception is handled or not handled are recommended to represent by using 'finally' block\n",
    "    \n",
    "    -Resource releasing statements(file closing statements or database connection closing statements) are recommended to represent by using 'finally' block"
   ]
  },
  {
   "cell_type": "code",
   "execution_count": null,
   "metadata": {},
   "outputs": [],
   "source": [
    "finally:\n",
    "    #some Logic"
   ]
  },
  {
   "cell_type": "code",
   "execution_count": 5,
   "metadata": {},
   "outputs": [
    {
     "name": "stdout",
     "output_type": "stream",
     "text": [
      "begin\n",
      "enter fno10\n",
      "enter sno0\n",
      "sno can not be zero\n",
      "welcome\n",
      "end\n"
     ]
    }
   ],
   "source": [
    "print('begin')\n",
    "x=input('enter fno')\n",
    "y=input('enter sno')\n",
    "\n",
    "try:\n",
    "    i=int(x)\n",
    "    j=int(y)\n",
    "    k=i/j\n",
    "    print(k)\n",
    "\n",
    "except(ZeroDivisionError):   \n",
    "    print('sno can not be zero')\n",
    "finally:                            \n",
    "    print(\"welcome\")\n",
    "print('end')"
   ]
  },
  {
   "cell_type": "markdown",
   "metadata": {},
   "source": [
    "### Nested 'try' block:\n",
    "\n",
    "     -we can define one 'try' block inside another 'try' block.\n",
    "     \n",
    "     -A 'try' block ,which contain another 'try' block is known as a 'enclosing try' block or 'outer try' block.\n",
    "     \n",
    "     -A 'try' block ,which is present inside another 'try' block is known as 'nested' or 'inner' try block.\n",
    "     \n",
    "     - if the exception is raised in 'outer try' block ,then control will goes to the 'outer try' ,'except' block.if 'outer try' ,'except' block is not handle that exception ,then programme will terminate abnormal.\n",
    "     \n",
    "     -If the exception is raised in the 'inner try' block then control will goes to the 'inner try' 'except' block.\n",
    "     \n",
    "     -If 'inner try' except block is not handled the error ,then control will goes to the 'outer try' 'except' block."
   ]
  },
  {
   "cell_type": "code",
   "execution_count": null,
   "metadata": {},
   "outputs": [],
   "source": [
    "try:                # outer try block\n",
    "    stmt1\n",
    "    stmt2\n",
    "        try:        # inner try block\n",
    "            stmt3\n",
    "            stmt4\n",
    "        except(exceptionclassname):\n",
    "            stmt5\n",
    "            stmt6\n",
    "except(Exceptionclassname):\n",
    "    stmt7\n",
    "    stmt8\n",
    "    "
   ]
  },
  {
   "cell_type": "code",
   "execution_count": null,
   "metadata": {},
   "outputs": [],
   "source": [
    "try:\n",
    "    print('in try1')\n",
    "    try:\n",
    "        print('in try2')\n",
    "    except:\n",
    "        print('in except2')\n",
    "    finally:\n",
    "        print('in finally2')\n",
    "except:\n",
    "    print('in print1')\n",
    "    try:\n",
    "        print('in try3')\n",
    "    except:\n",
    "        print('in except3')\n",
    "    finally:\n",
    "        print('in finally3')\n",
    "finally:\n",
    "    print('in finally1')\n",
    "    try:\n",
    "        print('in try4')\n",
    "    except:\n",
    "        print('in except4')\n",
    "    finally:\n",
    "        print('in finally4')\n",
    "        "
   ]
  },
  {
   "cell_type": "code",
   "execution_count": null,
   "metadata": {},
   "outputs": [],
   "source": []
  }
 ],
 "metadata": {
  "kernelspec": {
   "display_name": "Python 3",
   "language": "python",
   "name": "python3"
  }
 },
 "nbformat": 4,
 "nbformat_minor": 2
}
