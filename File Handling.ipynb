{
 "cells": [
  {
   "cell_type": "markdown",
   "metadata": {},
   "source": [
    "## File Handling:-\n",
    "\n",
    "    -Data can be stored in a variable or in a file or in a database.\n",
    "    \n",
    "    -In a variable,the data stored is of temporary type,if once programme execution is completed then,the variable wll be removed from memory.\n",
    "    \n",
    "    -To store the data permanently,use a file or a database.\n",
    "    \n",
    "    -If the data is lines or paragraphs,then use a file,and if the data is in records format ,then use 'database'.\n",
    "    \n",
    "### To work with a file follow these steps:\n",
    "\n",
    "    1).open a file in a mode.\n",
    "    2).Read or Write the data in a file.\n",
    "    3).Close a file.\n",
    "    \n",
    " ### Opening a File:\n",
    "     \n",
    "     -Call 'open' function and it returns a file object.to read or write the data and to close the file."
   ]
  },
  {
   "cell_type": "code",
   "execution_count": null,
   "metadata": {},
   "outputs": [],
   "source": [
    "f = open(filename,mode)"
   ]
  },
  {
   "cell_type": "markdown",
   "metadata": {},
   "source": [
    "    -if a file doesn't exist ,then 'FileNotFoundError' will be raised.\n",
    "    \n",
    "    -By default, a file is opened in 'read' mode.\n",
    "    \n",
    "    -The different modes,to open a file are"
   ]
  },
  {
   "cell_type": "markdown",
   "metadata": {},
   "source": [
    "#### w => file opened in write mode and cursor placed in the begining of the file.\n",
    "#### r =>file is opened in read mode and ,cursor is placed at begining of the file.\n",
    "#### a =>file is opened in append mode,is cursor is placed,at the end of the file.\n",
    "#### w+ =>file is opened for writting followed by reading.\n",
    "#### a+ =>file is opened for appending ,followed by reading.\n",
    "#### r+ =>file is opened for reading ,followed by writting."
   ]
  },
  {
   "cell_type": "markdown",
   "metadata": {},
   "source": [
    "#### Write a programme for writting some lines into a file,by reading from keyboard, untill 'Stop' is entered."
   ]
  },
  {
   "cell_type": "code",
   "execution_count": 6,
   "metadata": {},
   "outputs": [
    {
     "name": "stdout",
     "output_type": "stream",
     "text": [
      "this is the first line\n",
      "this is the second line\n",
      "this is the third line\n",
      "this is the fourth line\n",
      "stop\n"
     ]
    }
   ],
   "source": [
    "#open the file in write mode,if file doesn't exist,write mode will automatically create it.\n",
    "\n",
    "f = open('demo.txt', 'w')\n",
    "\n",
    "while True:\n",
    "    x = input()\n",
    "    if x != 'stop':\n",
    "        f.write(x)\n",
    "        f.write('\\n')\n",
    "    else:\n",
    "        break\n",
    "#close the file\n",
    "f.close()"
   ]
  },
  {
   "cell_type": "markdown",
   "metadata": {},
   "source": [
    "### Reading a file: \n",
    "    \n",
    "       -To read the contents of a file,we can call the following methods.\n",
    "       \n",
    "       1).read() => to read entire file.\n",
    "       \n",
    "       2).read(n) => to read n character from a file.\n",
    "       \n",
    "       3).readlines => to read the lines of a files and store them into a list.\n",
    "       \n",
    "       -to store the lines of the file,into a list without a new line character('\\n'),call 'splitlines."
   ]
  },
  {
   "cell_type": "markdown",
   "metadata": {},
   "source": [
    "#### Write a programme to read the lines of a file,into a list"
   ]
  },
  {
   "cell_type": "code",
   "execution_count": 7,
   "metadata": {},
   "outputs": [
    {
     "name": "stdout",
     "output_type": "stream",
     "text": [
      "['this is the first line', 'this is the second line', 'this is the third line', 'this is the fourth line']\n"
     ]
    }
   ],
   "source": [
    "#open the file in read mode\n",
    "f = open('demo.txt', 'r')\n",
    "print(f.read().splitlines())  #to store all the lines in a list\n",
    "#close the file\n",
    "f.close()"
   ]
  },
  {
   "cell_type": "code",
   "execution_count": 8,
   "metadata": {},
   "outputs": [
    {
     "name": "stdout",
     "output_type": "stream",
     "text": [
      "this is the first li\n"
     ]
    }
   ],
   "source": [
    "#open the file in read mode\n",
    "f = open('demo.txt', 'r')\n",
    "print(f.read(20))   # to read 20 chracters\n",
    "f.close()"
   ]
  },
  {
   "cell_type": "code",
   "execution_count": 12,
   "metadata": {},
   "outputs": [
    {
     "ename": "AttributeError",
     "evalue": "'str' object has no attribute 'readlines'",
     "output_type": "error",
     "traceback": [
      "\u001b[1;31m---------------------------------------------------------------------------\u001b[0m",
      "\u001b[1;31mAttributeError\u001b[0m                            Traceback (most recent call last)",
      "\u001b[1;32m<ipython-input-12-f0acc81cda13>\u001b[0m in \u001b[0;36m<module>\u001b[1;34m()\u001b[0m\n\u001b[0;32m      1\u001b[0m \u001b[1;31m#open the file in read mode\u001b[0m\u001b[1;33m\u001b[0m\u001b[1;33m\u001b[0m\u001b[0m\n\u001b[0;32m      2\u001b[0m \u001b[0mf\u001b[0m \u001b[1;33m=\u001b[0m \u001b[0mopen\u001b[0m\u001b[1;33m(\u001b[0m\u001b[1;34m'demo.txt'\u001b[0m\u001b[1;33m,\u001b[0m \u001b[1;34m'r'\u001b[0m\u001b[1;33m)\u001b[0m\u001b[1;33m\u001b[0m\u001b[0m\n\u001b[1;32m----> 3\u001b[1;33m \u001b[0mprint\u001b[0m\u001b[1;33m(\u001b[0m\u001b[0mf\u001b[0m\u001b[1;33m.\u001b[0m\u001b[0mread\u001b[0m\u001b[1;33m(\u001b[0m\u001b[1;33m)\u001b[0m\u001b[1;33m.\u001b[0m\u001b[0mreadlines\u001b[0m\u001b[1;33m(\u001b[0m\u001b[1;33m)\u001b[0m\u001b[1;33m)\u001b[0m  \u001b[1;31m#to store all the lines in a list\u001b[0m\u001b[1;33m\u001b[0m\u001b[0m\n\u001b[0m\u001b[0;32m      4\u001b[0m \u001b[1;31m#close the file\u001b[0m\u001b[1;33m\u001b[0m\u001b[1;33m\u001b[0m\u001b[0m\n\u001b[0;32m      5\u001b[0m \u001b[0mf\u001b[0m\u001b[1;33m.\u001b[0m\u001b[0mclose\u001b[0m\u001b[1;33m(\u001b[0m\u001b[1;33m)\u001b[0m\u001b[1;33m\u001b[0m\u001b[0m\n",
      "\u001b[1;31mAttributeError\u001b[0m: 'str' object has no attribute 'readlines'"
     ]
    }
   ],
   "source": [
    "#open the file in read mode\n",
    "f = open('demo.txt', 'r')\n",
    "print(f.read().readlines())  #to store all the lines in a list\n",
    "#close the file\n",
    "f.close()"
   ]
  },
  {
   "cell_type": "code",
   "execution_count": null,
   "metadata": {},
   "outputs": [],
   "source": []
  }
 ],
 "metadata": {
  "kernelspec": {
   "display_name": "Python 3",
   "language": "python",
   "name": "python3"
  },
  "language_info": {
   "codemirror_mode": {
    "name": "ipython",
    "version": 3
   },
   "file_extension": ".py",
   "mimetype": "text/x-python",
   "name": "python",
   "nbconvert_exporter": "python",
   "pygments_lexer": "ipython3",
   "version": "3.6.5"
  }
 },
 "nbformat": 4,
 "nbformat_minor": 2
}
