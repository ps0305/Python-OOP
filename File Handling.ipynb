{
 "cells": [
  {
   "cell_type": "markdown",
   "metadata": {},
   "source": [
    "## File Handling:-\n",
    "\n",
    "    -Data can be stored in a variable or in a file or in a database.\n",
    "    \n",
    "    -In a variable,the data stored is of temporary type,if once programme execution is completed then,the variable wll be removed from memory.\n",
    "    \n",
    "    -To store the data permanently,use a file or a database.\n",
    "    \n",
    "    -If the data is lines or paragraphs,then use a file,and if the data is in records format ,then use 'database'.\n",
    "    \n",
    "### To work with a file follow these steps:\n",
    "\n",
    "    1).open a file in a mode.\n",
    "    2).Read or Write the data in a file.\n",
    "    3).Close a file.\n",
    "    \n",
    " ### Opening a File:\n",
    "     \n",
    "     -Call 'open' function and it returns a file object.to read or write the data and to close the file."
   ]
  },
  {
   "cell_type": "code",
   "execution_count": null,
   "metadata": {},
   "outputs": [],
   "source": [
    "f = open(filename,mode)"
   ]
  },
  {
   "cell_type": "markdown",
   "metadata": {},
   "source": [
    "    -if a file doesn't exist ,then 'FileNotFoundError' will be raised.\n",
    "    \n",
    "    -By default, a file is opened in 'read' mode.\n",
    "    \n",
    "    -The different modes,to open a file are"
   ]
  },
  {
   "cell_type": "markdown",
   "metadata": {},
   "source": [
    "#### w => file opened in write mode and cursor placed in the begining of the file.\n",
    "#### r =>file is opened in read mode and ,cursor is placed at begining of the file.\n",
    "#### a =>file is opened in append mode,is cursor is placed,at the end of the file.\n",
    "#### w+ =>file is opened for writting followed by reading.\n",
    "#### a+ =>file is opened for appending ,followed by reading.\n",
    "#### r+ =>file is opened for reading ,followed by writting."
   ]
  },
  {
   "cell_type": "markdown",
   "metadata": {},
   "source": [
    "#### Write a programme for writting some lines into a file,by reading from keyboard, untill 'Stop' is entered."
   ]
  },
  {
   "cell_type": "code",
   "execution_count": 9,
   "metadata": {},
   "outputs": [
    {
     "name": "stdout",
     "output_type": "stream",
     "text": [
      "This is the first line\n",
      "This is the second line\n",
      "This is the third line\n",
      "This is the fourth line\n",
      "stop\n"
     ]
    }
   ],
   "source": [
    "#open the file in write mode,if file doesn't exist,write mode will automatically create it.\n",
    "\n",
    "f = open('demo.txt', 'w')\n",
    "\n",
    "while True:\n",
    "    x = input()\n",
    "    if x != 'stop':\n",
    "        f.write(x)\n",
    "        f.write('\\n')\n",
    "    else:\n",
    "        break\n",
    "#close the file\n",
    "f.close()"
   ]
  },
  {
   "cell_type": "markdown",
   "metadata": {},
   "source": [
    "### Reading a file: \n",
    "    \n",
    "       -To read the contents of a file,we can call the following methods.\n",
    "       \n",
    "       1).read() => to read entire file.\n",
    "       \n",
    "       2).read(n) => to read n character from a file.\n",
    "       \n",
    "       3).readlines => to read the lines of a files and store them into a list.\n",
    "       \n",
    "       -to store the lines of the file,into a list without a new line character('\\n'),call 'splitlines."
   ]
  },
  {
   "cell_type": "markdown",
   "metadata": {},
   "source": [
    "#### Write a programme to read the lines of a file,into a list"
   ]
  },
  {
   "cell_type": "code",
   "execution_count": 7,
   "metadata": {},
   "outputs": [
    {
     "name": "stdout",
     "output_type": "stream",
     "text": [
      "['this is the first line', 'this is the second line', 'this is the third line', 'this is the fourth line']\n"
     ]
    }
   ],
   "source": [
    "#open the file in read mode\n",
    "f = open('demo.txt', 'r')\n",
    "print(f.read().splitlines())  #to store all the lines in a list\n",
    "#close the file\n",
    "f.close()"
   ]
  },
  {
   "cell_type": "code",
   "execution_count": 8,
   "metadata": {},
   "outputs": [
    {
     "name": "stdout",
     "output_type": "stream",
     "text": [
      "this is the first li\n"
     ]
    }
   ],
   "source": [
    "#open the file in read mode\n",
    "f = open('demo.txt', 'r')\n",
    "print(f.read(20))   # to read 20 chracters\n",
    "f.close()"
   ]
  },
  {
   "cell_type": "code",
   "execution_count": null,
   "metadata": {},
   "outputs": [],
   "source": [
    "#open the file in read mode\n",
    "f = open('demo.txt', 'r')\n",
    "print(f.read().readlines())  #to store all the lines in a list\n",
    "#close the file\n",
    "f.close()"
   ]
  },
  {
   "cell_type": "code",
   "execution_count": null,
   "metadata": {},
   "outputs": [],
   "source": [
    "#open file in read mode\n",
    "f=open('demo.txt','r')\n",
    "i=1\n",
    "for line in f:\n",
    "    if i%2 !=0:\n",
    "        print(line)\n",
    "        i=i+1"
   ]
  },
  {
   "cell_type": "markdown",
   "metadata": {},
   "source": [
    "####  Write a programme for counting number of line,words and character in a file."
   ]
  },
  {
   "cell_type": "code",
   "execution_count": 11,
   "metadata": {},
   "outputs": [
    {
     "name": "stdout",
     "output_type": "stream",
     "text": [
      "no of lines= 4\n",
      "no of words= 20\n",
      "no of char= 94\n"
     ]
    }
   ],
   "source": [
    "try:\n",
    "    f=open('demo.txt','r')\n",
    "    nl=0\n",
    "    nw=0\n",
    "    nc=0\n",
    "    for line in f:\n",
    "        nl += 1\n",
    "        words = line.split()\n",
    "        nw += len(words)\n",
    "        nc += len(line)\n",
    "    print('no of lines=',nl)\n",
    "    print('no of words=',nw)\n",
    "    print('no of char=',nc)\n",
    "except:\n",
    "    print('some error')\n",
    "finally:\n",
    "    f.close()"
   ]
  },
  {
   "cell_type": "markdown",
   "metadata": {},
   "source": [
    "#### Write a programme to count ,the number of times 'is' repeated in the file."
   ]
  },
  {
   "cell_type": "code",
   "execution_count": 10,
   "metadata": {},
   "outputs": [
    {
     "name": "stdout",
     "output_type": "stream",
     "text": [
      "is repeated in file for: 8\n"
     ]
    },
    {
     "data": {
      "text/plain": [
       "<function TextIOWrapper.close()>"
      ]
     },
     "execution_count": 10,
     "metadata": {},
     "output_type": "execute_result"
    }
   ],
   "source": [
    "f=open('demo.txt','r')\n",
    "count=0\n",
    "for line in f:\n",
    "    count +=line.count('is')\n",
    "        \n",
    "print('is repeated in file for:',count)\n",
    "f.close"
   ]
  },
  {
   "cell_type": "markdown",
   "metadata": {},
   "source": [
    "    -seek() is a method ,used to move the cursor,to a given position,from the begining of the file.\n",
    "    \n",
    "    -tell(),is to get ,current position of a cursor."
   ]
  },
  {
   "cell_type": "code",
   "execution_count": 13,
   "metadata": {},
   "outputs": [
    {
     "name": "stdout",
     "output_type": "stream",
     "text": [
      "0\n",
      "This is th\n"
     ]
    }
   ],
   "source": [
    "f=open('demo.txt','r')\n",
    "print(f.tell())\n",
    "print(f.read(10))\n"
   ]
  },
  {
   "cell_type": "code",
   "execution_count": 16,
   "metadata": {},
   "outputs": [
    {
     "name": "stdout",
     "output_type": "stream",
     "text": [
      "ne\n",
      "This \n",
      "29\n"
     ]
    }
   ],
   "source": [
    "f=open('demo.txt','r')\n",
    "f.seek(20,0)\n",
    "print(f.read(8))\n",
    "print(f.tell())"
   ]
  },
  {
   "cell_type": "code",
   "execution_count": 17,
   "metadata": {},
   "outputs": [
    {
     "ename": "UnsupportedOperation",
     "evalue": "can't do nonzero end-relative seeks",
     "output_type": "error",
     "traceback": [
      "\u001b[1;31m---------------------------------------------------------------------------\u001b[0m",
      "\u001b[1;31mUnsupportedOperation\u001b[0m                      Traceback (most recent call last)",
      "\u001b[1;32m<ipython-input-17-f8e3baff04bc>\u001b[0m in \u001b[0;36m<module>\u001b[1;34m()\u001b[0m\n\u001b[0;32m      1\u001b[0m \u001b[0mf\u001b[0m\u001b[1;33m=\u001b[0m\u001b[0mopen\u001b[0m\u001b[1;33m(\u001b[0m\u001b[1;34m'demo.txt'\u001b[0m\u001b[1;33m,\u001b[0m\u001b[1;34m'r'\u001b[0m\u001b[1;33m)\u001b[0m\u001b[1;33m\u001b[0m\u001b[0m\n\u001b[1;32m----> 2\u001b[1;33m \u001b[0mf\u001b[0m\u001b[1;33m.\u001b[0m\u001b[0mseek\u001b[0m\u001b[1;33m(\u001b[0m\u001b[1;33m-\u001b[0m\u001b[1;36m20\u001b[0m\u001b[1;33m,\u001b[0m\u001b[1;36m2\u001b[0m\u001b[1;33m)\u001b[0m\u001b[1;33m\u001b[0m\u001b[0m\n\u001b[0m\u001b[0;32m      3\u001b[0m \u001b[0mprint\u001b[0m\u001b[1;33m(\u001b[0m\u001b[0mf\u001b[0m\u001b[1;33m.\u001b[0m\u001b[0mread\u001b[0m\u001b[1;33m(\u001b[0m\u001b[1;36m8\u001b[0m\u001b[1;33m)\u001b[0m\u001b[1;33m)\u001b[0m\u001b[1;33m\u001b[0m\u001b[0m\n\u001b[0;32m      4\u001b[0m \u001b[0mprint\u001b[0m\u001b[1;33m(\u001b[0m\u001b[0mf\u001b[0m\u001b[1;33m.\u001b[0m\u001b[0mtell\u001b[0m\u001b[1;33m(\u001b[0m\u001b[1;33m)\u001b[0m\u001b[1;33m)\u001b[0m\u001b[1;33m\u001b[0m\u001b[0m\n",
      "\u001b[1;31mUnsupportedOperation\u001b[0m: can't do nonzero end-relative seeks"
     ]
    }
   ],
   "source": [
    "f=open('demo.txt','r')\n",
    "f.seek(-20,2)\n",
    "print(f.read(8))\n",
    "print(f.tell())"
   ]
  },
  {
   "cell_type": "markdown",
   "metadata": {},
   "source": [
    "#### with:\n",
    "    -it can be used to open a file.\n",
    "    \n",
    "    -if a file is opened,using 'with' keyword ,then the file will be automatically closed,when exception occur or doesn't occur.\n",
    "    "
   ]
  },
  {
   "cell_type": "code",
   "execution_count": 18,
   "metadata": {},
   "outputs": [
    {
     "name": "stdout",
     "output_type": "stream",
     "text": [
      "This is the first line\n",
      "This is the second line\n",
      "This is the third line\n",
      "This is the fourth line\n",
      "\n"
     ]
    }
   ],
   "source": [
    "with open('demo.txt','r') as f:\n",
    "    print(f.read())"
   ]
  },
  {
   "cell_type": "code",
   "execution_count": null,
   "metadata": {},
   "outputs": [],
   "source": []
  }
 ],
 "metadata": {
  "kernelspec": {
   "display_name": "Python 3",
   "language": "python",
   "name": "python3"
  },
  "language_info": {
   "codemirror_mode": {
    "name": "ipython",
    "version": 3
   },
   "file_extension": ".py",
   "mimetype": "text/x-python",
   "name": "python",
   "nbconvert_exporter": "python",
   "pygments_lexer": "ipython3",
   "version": "3.6.5"
  }
 },
 "nbformat": 4,
 "nbformat_minor": 2
}
