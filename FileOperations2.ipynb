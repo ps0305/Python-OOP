{
 "cells": [
  {
   "cell_type": "markdown",
   "metadata": {},
   "source": [
    "### Object Serialization:\n",
    "\n",
    "    -Serailization means,storing the structured data of an object into a file,in a form of bytes.\n",
    "    \n",
    "    -Deserialization ,means reading the bytes from a file and storing back into an object.\n",
    "    \n",
    "    -Python has provided, 'Pickle' module to serialize and Deserialize an object"
   ]
  },
  {
   "cell_type": "code",
   "execution_count": null,
   "metadata": {},
   "outputs": [],
   "source": [
    "class Customer:\n",
    "    def __init__(self,cid,cname,city):\n",
    "        self.cid=cid\n",
    "        self.cname=cname\n",
    "        self.city=city\n",
    "    def display(self):\n",
    "        print('cid={}')"
   ]
  },
  {
   "cell_type": "code",
   "execution_count": null,
   "metadata": {},
   "outputs": [],
   "source": [
    "from Customer import Customer\n",
    "import pickle\n",
    "\n",
    "f=open('customer.dat','wb')\n",
    "c=customer(101,'Mike','Ind')\n",
    "pickle.dump(c,f)\n",
    "print('serialization done')"
   ]
  },
  {
   "cell_type": "code",
   "execution_count": null,
   "metadata": {},
   "outputs": [],
   "source": [
    "import pickle\n",
    "f=open('customer.dat','rb')\n",
    "c=pickle.load()\n",
    "c.display()\n",
    "f.close()"
   ]
  },
  {
   "cell_type": "code",
   "execution_count": null,
   "metadata": {},
   "outputs": [],
   "source": [
    "from Customer import Customer\n",
    "import pickle\n",
    "\n",
    "f=open('customer.dat','wb')\n",
    "n=int(input('Enter the number of items ,you want to serialize?''))\n",
    "for i in f:\n",
    "    cidt=int(input('Enter the customer id'))\n",
    "    cname=input('Enter the customer name')\n",
    "    city=input('Enter the city')\n",
    "    c=Customer(cid,cname,city)\n",
    "    pickle.dump(c,f)\n",
    "print('serialization done')"
   ]
  },
  {
   "cell_type": "code",
   "execution_count": null,
   "metadata": {},
   "outputs": [],
   "source": [
    "import pickle\n",
    "f=open('customer.dat','rb')\n",
    "while True:\n",
    "    try:\n",
    "        c=pickle.load()\n",
    "        c.display()\n",
    "    except EOFError:\n",
    "        break:\n",
    "f.close()"
   ]
  },
  {
   "cell_type": "markdown",
   "metadata": {},
   "source": [
    "### Zipping files:\n",
    "\n",
    "    -Python has provied 'ZipFile' class from 'zipfile' module for creating a zip file from a collection of files,or for unzipping a zip file.\n",
    "    \n",
    "    -"
   ]
  },
  {
   "cell_type": "code",
   "execution_count": null,
   "metadata": {},
   "outputs": [],
   "source": [
    "from zipfile import ZipFile\n",
    "z=ZipFile('test.zip','w',ZIP_DEFLATED)\n",
    "\n",
    "z.write('demo1.py')\n",
    "z.write('demo2.py')\n",
    "z.write('demo3.py')\n",
    "z.write('demo4.py')\n",
    "\n",
    "z.close()"
   ]
  },
  {
   "cell_type": "code",
   "execution_count": null,
   "metadata": {},
   "outputs": [],
   "source": [
    "from zipfile import *\n",
    "z=ZipFile('test.zip','r')\n",
    "names=z.namelist()\n",
    "print(names)\n",
    "for name in name:\n",
    "    f=open(name,'r')\n",
    "    print(f.read())\n",
    "    f.close()"
   ]
  }
 ],
 "metadata": {
  "kernelspec": {
   "display_name": "Python 3",
   "language": "python",
   "name": "python3"
  },
  "language_info": {
   "codemirror_mode": {
    "name": "ipython",
    "version": 3
   },
   "file_extension": ".py",
   "mimetype": "text/x-python",
   "name": "python",
   "nbconvert_exporter": "python",
   "pygments_lexer": "ipython3",
   "version": "3.6.5"
  }
 },
 "nbformat": 4,
 "nbformat_minor": 2
}
