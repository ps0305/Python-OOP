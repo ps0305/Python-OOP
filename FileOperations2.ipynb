{
 "cells": [
  {
   "cell_type": "markdown",
   "metadata": {},
   "source": [
    "### Object Serialization:\n",
    "\n",
    "    -Serailization means,storing the structured data of an object into a file,in a form of bytes.\n",
    "    \n",
    "    -Deserialization ,means reading the bytes from a file and storing back into an object.\n",
    "    \n",
    "    -Python has provided, 'Pickle' module to serialize and Deserialize an object"
   ]
  },
  {
   "cell_type": "code",
   "execution_count": null,
   "metadata": {},
   "outputs": [],
   "source": [
    "class Customer:\n",
    "    def __init__(self,cid,cname,city):\n",
    "        self.cid=cid\n",
    "        self.cname=cname\n",
    "        self.city=city\n",
    "    def display(self):\n",
    "        print('cid={},cname={},city={}'.format(self.cid,self.cname,self.city))"
   ]
  },
  {
   "cell_type": "code",
   "execution_count": null,
   "metadata": {},
   "outputs": [],
   "source": [
    "from customer import Customer\n",
    "import pickle\n",
    "\n",
    "f=open('customer.dat','wb')\n",
    "c=Customer(101,'Mike','Ind')\n",
    "pickle.dump(c,f)\n",
    "print('serialization done')"
   ]
  },
  {
   "cell_type": "code",
   "execution_count": null,
   "metadata": {},
   "outputs": [],
   "source": [
    "import pickle\n",
    "f=open('customer.dat','rb')\n",
    "c=pickle.load()\n",
    "c.display()\n",
    "f.close()"
   ]
  },
  {
   "cell_type": "code",
   "execution_count": null,
   "metadata": {},
   "outputs": [],
   "source": [
    "from Customer import Customer\n",
    "import pickle\n",
    "\n",
    "f=open('customer.dat','wb')\n",
    "n=int(input('Enter the number of items ,you want to serialize?'))\n",
    "for i in f:\n",
    "    cidt=int(input('Enter the customer id'))\n",
    "    cname=input('Enter the customer name')\n",
    "    city=input('Enter the city')\n",
    "    c=Customer(cid,cname,city)\n",
    "    pickle.dump(c,f)\n",
    "print('serialization done')"
   ]
  },
  {
   "cell_type": "code",
   "execution_count": null,
   "metadata": {},
   "outputs": [],
   "source": [
    "import pickle\n",
    "f=open('customer.dat','rb')\n",
    "while True:\n",
    "    try:\n",
    "        c=pickle.load()\n",
    "        c.display()\n",
    "    except EOFError:\n",
    "        break:\n",
    "f.close()"
   ]
  },
  {
   "cell_type": "markdown",
   "metadata": {},
   "source": [
    "### Zipping files:\n",
    "\n",
    "    -Python has provied 'ZipFile' class from 'zipfile' module for creating a zip file from a collection of files,or for unzipping a zip file.\n",
    "    \n",
    "    -"
   ]
  },
  {
   "cell_type": "code",
   "execution_count": null,
   "metadata": {},
   "outputs": [],
   "source": [
    "from zipfile import ZipFile\n",
    "z=ZipFile('test.zip','w',ZIP_DEFLATED)\n",
    "\n",
    "z.write('demo1.py')\n",
    "z.write('demo2.py')\n",
    "z.write('demo3.py')\n",
    "z.write('demo4.py')\n",
    "\n",
    "z.close()"
   ]
  },
  {
   "cell_type": "code",
   "execution_count": null,
   "metadata": {},
   "outputs": [],
   "source": [
    "from zipfile import *\n",
    "z=ZipFile('test.zip','r')\n",
    "names=z.namelist()\n",
    "print(names)\n",
    "for name in name:\n",
    "    f=open(name,'r')\n",
    "    print(f.read())\n",
    "    f.close()"
   ]
  },
  {
   "cell_type": "markdown",
   "metadata": {},
   "source": [
    "#### Before ,opening a file ,to read the data ,verify a file exist or not,with the following code"
   ]
  },
  {
   "cell_type": "code",
   "execution_count": null,
   "metadata": {},
   "outputs": [],
   "source": [
    "if os.path.exist('filename.txt'):\n",
    "    f=open('filename.txt','r')\n",
    "else:\n",
    "    print('sorry,file does not found')"
   ]
  },
  {
   "cell_type": "markdown",
   "metadata": {},
   "source": [
    "### Working with directories:\n",
    "    \n",
    "#### 1) getcwd() ==> to read path of current working directory.\n",
    "    "
   ]
  },
  {
   "cell_type": "code",
   "execution_count": null,
   "metadata": {},
   "outputs": [],
   "source": [
    "import os\n",
    "pwd = os.getcwd()\n",
    "print(pwd)"
   ]
  },
  {
   "cell_type": "markdown",
   "metadata": {},
   "source": [
    "#### 2) mkdir() ==> to create a new working directory under, current working directory."
   ]
  },
  {
   "cell_type": "code",
   "execution_count": null,
   "metadata": {},
   "outputs": [],
   "source": [
    "import os\n",
    "os.mkdir('sub1')"
   ]
  },
  {
   "cell_type": "markdown",
   "metadata": {},
   "source": [
    "#### 3) mkdirs() ==> to create a sequence of new directories under, current working directory."
   ]
  },
  {
   "cell_type": "code",
   "execution_count": null,
   "metadata": {},
   "outputs": [],
   "source": [
    "import os\n",
    "os.mkdirs('sub1/sub2/sub3/sub4')\n",
    "#or\n",
    "os.mkdirs('E:/learning/sub1')"
   ]
  },
  {
   "cell_type": "markdown",
   "metadata": {},
   "source": [
    "#### 4) chdir() ==> to chnnge, current working directory."
   ]
  },
  {
   "cell_type": "code",
   "execution_count": null,
   "metadata": {},
   "outputs": [],
   "source": [
    "import os\n",
    "os.chdir('sub1/sub2/sub3')"
   ]
  },
  {
   "cell_type": "markdown",
   "metadata": {},
   "source": [
    "#### 3) rmdir() ==> to remove directory followed by current directory,only if the followed directory is empty"
   ]
  },
  {
   "cell_type": "code",
   "execution_count": null,
   "metadata": {},
   "outputs": [],
   "source": [
    "import os\n",
    "os.rmdir('sub4')"
   ]
  },
  {
   "cell_type": "markdown",
   "metadata": {},
   "source": [
    "#### 3) removedirs() ==> to remove sequence of directories followed by current directory,only if the followed directories are  empty"
   ]
  },
  {
   "cell_type": "code",
   "execution_count": null,
   "metadata": {},
   "outputs": [],
   "source": [
    "import os\n",
    "os.removedirs('sub1/sub2/sub3')"
   ]
  }
 ],
 "metadata": {
  "kernelspec": {
   "display_name": "Python 3",
   "language": "python",
   "name": "python3"
  },
  "language_info": {
   "codemirror_mode": {
    "name": "ipython",
    "version": 3
   },
   "file_extension": ".py",
   "mimetype": "text/x-python",
   "name": "python",
   "nbconvert_exporter": "python",
   "pygments_lexer": "ipython3",
   "version": "3.6.5"
  }
 },
 "nbformat": 4,
 "nbformat_minor": 2
}
